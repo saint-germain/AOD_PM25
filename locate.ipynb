{
 "cells": [
  {
   "cell_type": "code",
   "execution_count": 1,
   "metadata": {
    "collapsed": false
   },
   "outputs": [
    {
     "name": "stdout",
     "output_type": "stream",
     "text": [
      "Hay 1649 datos invalidos de 52560 datos en Kennedy2013.csv\n",
      "Para la estacion KENNEDY, el satelite pasa a 9.57 km\n",
      "ODLAO = 0.13200000627 , PM25 =  15\n",
      "Hay 3742 datos invalidos de 52704 datos en Kennedy2012.csv\n",
      "No hay archivos de MODIS para el 2012\n"
     ]
    }
   ],
   "source": [
    "%matplotlib inline\n",
    "import numpy as np\n",
    "import matplotlib.pyplot as plt\n",
    "import pandas as pd\n",
    "import os\n",
    "\n",
    "from datetime import datetime\n",
    "from datetime import timedelta\n",
    "estfile=\"../estaciones.csv\"\n",
    "edf=pd.read_csv(estfile)\n",
    "isfilelist=[]\n",
    "for isfile in os.listdir(\"../Datos_Insitu/\"):\n",
    "    if isfile.endswith(\".csv\") and not(isfile.startswith(\".\")):\n",
    "        isfilelist.append(isfile)\n",
    "for isfile in isfilelist:\n",
    "    filename=\"../Datos_Insitu/\"+isfile\n",
    "    df=pd.read_csv(filename,skiprows=2)\n",
    "    df=df.drop(df.index[[0]])\n",
    "    df=df.drop(df.index[range(len(df)-8,len(df))])\n",
    "    filter=(df.PM25=='Sin Data')\n",
    "    df1=df[~filter]\n",
    "    filter2=(df1.PM25=='InVld')\n",
    "    df1=df1[~filter2]\n",
    "    filter3=(df1.PM25=='Apagado')\n",
    "    df1=df1[~filter3]\n",
    "    filter4=(df1.PM25=='RS232')\n",
    "    df1=df1[~filter4]\n",
    "    print \"Hay %s datos invalidos de %s datos en %s\" %(filter.sum()+filter2.sum()+filter3.sum()+filter4.sum(),len(df),isfile)\n",
    "    satfilelist=[]\n",
    "    pm25list=[]\n",
    "    datelist=[]\n",
    "    aodlist=[]\n",
    "    distlist=[]\n",
    "    estcerc=[]\n",
    "    estmed=[]\n",
    "    cando=True\n",
    "    for satfile in os.listdir(\".\"):\n",
    "        if satfile.endswith(\".csv\"):\n",
    "            if satfile[10:14]==isfile[-8:-4]:\n",
    "                satfilelist.append(satfile)\n",
    "            else:\n",
    "                print \"No hay archivos de MODIS para el %s\" % isfile[-8:-4]\n",
    "                cando=False\n",
    "    if cando :\n",
    "        for satfile in satfilelist:\n",
    "            success=False\n",
    "            sdf=pd.read_csv(satfile)\n",
    "            satyear=satfile[10:14]\n",
    "            satyear=int(satyear)\n",
    "            satday=satfile[14:17]\n",
    "            satday=int(satday)\n",
    "            sathour=satfile[18:20]\n",
    "            sathour=int(sathour)\n",
    "            satmin=satfile[20:22]\n",
    "            satmin=int(satmin)\n",
    "\n",
    "            start=datetime(satyear,01,01)\n",
    "            satdate=start+timedelta(days=satday-1,hours=sathour,minutes=satmin)\n",
    "            dlist=[]\n",
    "            pmlist=[]\n",
    "\n",
    "            trange=timedelta(minutes=30)\n",
    "            for i in range(len(df1)):\n",
    "                date=(df1[\"Fecha & Hora\"].iloc[i])\n",
    "                day=int(date[0:2])\n",
    "                month=int(date[3:5])\n",
    "                year=int(date[6:10])\n",
    "                hour=int(date[11:13])\n",
    "                minute=int(date[14:16])\n",
    "                if hour < 24 :\n",
    "                    isdate=datetime(year,month,day,hour,minute)\n",
    "                if satdate-trange <= isdate <=satdate+trange:\n",
    "                    dlist.append(isdate)\n",
    "                    try:\n",
    "                        pmlist.append(int(df1.PM25.iloc[i]))\n",
    "                    except:\n",
    "                        print \"Valor invalido en pm25, posiblemente %s pero puede haber mas\" % np.unique(df1.PM25)[-1]\n",
    "                        print \"Hay que limpiar %s\" %isfile\n",
    "                    if isdate==satdate :\n",
    "                        pmval=int(df1.PM25.iloc[i])\n",
    "                        dtval=satdate\n",
    "                        success=True\n",
    "                if isdate > satdate+trange:\n",
    "                    break\n",
    "            pmdf=pd.DataFrame({'Date' : dlist, 'PM25': pmlist})\n",
    "            if len(pmdf) > 0 :\n",
    "                stname=isfile.replace(\"%s.csv\"%year,\"\").upper()\n",
    "                for i in range(len(edf)):\n",
    "                    if edf.ESTACION.iloc[i]==stname:\n",
    "\n",
    "                        lat=edf.LATITUD.iloc[i]\n",
    "                        lon=edf.LONGITUD.iloc[i]        \n",
    "                distance=np.sqrt((sdf.Latitude-lat)**2+(sdf.Longitude-lon)**2)*111.325\n",
    "                ixcl=np.argmin(distance)   \n",
    "                slat=sdf.Latitude.iloc[ixcl]\n",
    "                slon=sdf.Longitude.iloc[ixcl]\n",
    "                ixce=np.argmin((edf.LATITUD-slat)**2+(edf.LONGITUD-slon)**2)\n",
    "                print \"Para la estacion %s, el satelite pasa a %.2f km\" %(stname,distance[ixcl])\n",
    "                if edf.ESTACION.iloc[ixce]!=stname :\n",
    "                    print \"Sin embargo, la estacion mas cercana al punto por donde paso el satelite es %s\" % edf.ESTACION.iloc[ixce]\n",
    "            aodlist.append(sdf.Optical_Depth_Land_And_Ocean.iloc[ixcl])    \n",
    "            distlist.append(distance[ixcl])\n",
    "            estcerc.append(edf.ESTACION.iloc[ixce])\n",
    "            estmed.append(stname)\n",
    "            print \"ODLAO =\",sdf.Optical_Depth_Land_And_Ocean.iloc[ixcl],\", PM25 = \", pmdf.PM25.iloc[1]\n",
    "            if success:\n",
    "                pm25list.append(pmval)\n",
    "                datelist.append(satdate)\n",
    "            else:\n",
    "                pm25list.append(pmdf.PM25.iloc[0])\n",
    "                datelist.append(pmdf.Date.iloc[0])\n",
    "        pd.DataFrame({'Date' : datelist,'PM25' : pm25list, 'AOD' : aodlist, 'Dist' : distlist, 'EstCerc': estcerc, 'EstMed': estmed}).to_csv(\"../data%s.csv\"%year)"
   ]
  },
  {
   "cell_type": "code",
   "execution_count": 73,
   "metadata": {
    "collapsed": false,
    "scrolled": true
   },
   "outputs": [
    {
     "name": "stdout",
     "output_type": "stream",
     "text": [
      "Hay 1649 datos invalidos de 52560 datos en Kennedy2013.csv\n",
      "Para la estacion KENNEDY, el satelite pasa a 9.57 km\n",
      "ODLAO = 0.13200000627 , PM25 =  15\n",
      "Hay 3742 datos invalidos de 52704 datos en Kennedy2012.csv\n",
      "No hay archivos de MODIS para el 2012\n"
     ]
    }
   ],
   "source": []
  },
  {
   "cell_type": "code",
   "execution_count": 66,
   "metadata": {
    "collapsed": false
   },
   "outputs": [
    {
     "data": {
      "text/plain": [
       "['KENNEDY']"
      ]
     },
     "execution_count": 66,
     "metadata": {},
     "output_type": "execute_result"
    }
   ],
   "source": [
    "estcerc"
   ]
  },
  {
   "cell_type": "code",
   "execution_count": 49,
   "metadata": {
    "collapsed": false
   },
   "outputs": [],
   "source": [
    "rm file.csv"
   ]
  },
  {
   "cell_type": "code",
   "execution_count": 15,
   "metadata": {
    "collapsed": true
   },
   "outputs": [],
   "source": [
    "# avisar si no sale la hora exacta en in situ ^^  "
   ]
  },
  {
   "cell_type": "code",
   "execution_count": 18,
   "metadata": {
    "collapsed": false
   },
   "outputs": [
    {
     "data": {
      "text/plain": [
       "array([  9.5739337 ,  14.29022663,  14.64680363,  14.65502672,\n",
       "        15.14549803,  15.76593237,  16.97915142,  17.41244013,\n",
       "        18.80978832,  18.94774995,  19.24709844,  19.45899383,\n",
       "        19.81310982,  19.83937856,  20.18463825,  20.92969191,\n",
       "        21.26216694,  22.12865247,  22.97719574,  23.15797726,\n",
       "        23.28637579,  23.31221745,  23.48282189,  23.76952002,\n",
       "        24.30181841,  24.66474425,  24.70329387,  25.30303363,\n",
       "        25.34654196,  25.79309008,  25.83960186,  25.91293416,\n",
       "        25.94139219,  26.45685192,  26.45814483,  26.72675397,\n",
       "        26.96618758,  27.0144287 ,  27.31191381,  27.57940349,\n",
       "        27.62105149,  27.66732751,  28.25914311,  28.36357019,\n",
       "        28.55420631,  28.71694953,  28.74107487,  28.8419333 ,\n",
       "        28.90304889,  28.95473438,  29.20050593,  29.47939143,\n",
       "        29.84548293,  30.28376232,  30.53664106,  30.6293391 ,\n",
       "        30.81149914,  31.00937991,  31.53120192,  31.7662814 ,\n",
       "        31.7892639 ,  31.87019026,  32.06252444,  32.23937664,\n",
       "        32.2722565 ,  32.41626875,  32.43007423,  32.50577374,\n",
       "        32.66322659,  32.68961829,  32.983284  ,  33.09927527,\n",
       "        33.63761096,  33.65310187,  33.65953712,  33.76206859,\n",
       "        33.96570209,  34.13332918,  34.40576858,  34.47207315,\n",
       "        34.52146069,  34.75247128,  34.77119519,  34.90806154,\n",
       "        35.15466742,  35.36343225,  35.5405873 ,  35.65541615,\n",
       "        35.66386342,  35.72712876,  35.90728046,  36.28061977,\n",
       "        36.28653231,  36.56569118,  36.68702008,  37.06959738,\n",
       "        37.24489246,  37.3168723 ,  37.34849596,  37.45048665,\n",
       "        37.4708525 ,  37.54192759,  37.69739278,  38.00330448,\n",
       "        38.14118015,  38.18429211,  38.23179893,  38.27990497,\n",
       "        38.35227065,  38.50107113,  38.60488876,  38.93002078,\n",
       "        39.16870779,  39.53852455,  39.55327949,  39.63957612,\n",
       "        39.70743923,  39.81564309,  40.01391817,  40.14789444,\n",
       "        40.28030496,  40.32931057,  40.47483318,  40.69213498,\n",
       "        40.73846201,  40.82638131,  40.954563  ,  40.95473047,\n",
       "        41.02116865,  41.10254422,  41.3727346 ,  41.38584229,\n",
       "        41.40475178,  41.44334332,  41.58231576,  41.58870126,\n",
       "        41.82694746,  41.955914  ,  41.96139014,  41.97903698,\n",
       "        42.14174039,  42.17295278,  42.5360632 ,  42.68258899,\n",
       "        43.01928544,  43.23267002,  43.33784103,  43.35573396,\n",
       "        43.48714635,  43.74234221,  43.82685065,  44.17945637,\n",
       "        44.3083321 ,  44.34849131,  44.40143868,  44.56825863,\n",
       "        44.64637377,  44.68070749,  44.69836465,  44.73183373,\n",
       "        44.8017112 ,  44.81643116,  44.8657932 ,  44.94245598,\n",
       "        44.96344893,  45.1238879 ,  45.19697303,  45.56551002,\n",
       "        45.63919289,  45.83359   ,  45.85233582,  45.94301219,\n",
       "        45.98201792,  45.99150125,  46.03687235,  46.11950338,\n",
       "        46.14714705,  46.15738142,  46.17413565,  46.23806252,\n",
       "        46.30382319,  46.63400091,  46.68221069,  46.70636896,\n",
       "        46.7067326 ,  46.7784773 ,  46.92543265,  46.97259913,\n",
       "        47.25340331,  47.56890686,  47.57567908,  47.76858344,\n",
       "        47.95907874,  48.12297152,  48.65241224,  48.80093394,\n",
       "        48.87968192,  49.06234363,  49.11923346,  49.38095563,\n",
       "        49.4079512 ,  49.69516356,  50.01343938,  50.01404273,\n",
       "        50.0209529 ,  50.15263358,  50.25284664,  50.66805803,\n",
       "        50.70875254,  50.71345763,  50.87778852,  50.88564319,\n",
       "        51.3629687 ,  51.41841068,  51.44575899,  51.81119388,\n",
       "        51.91740751,  52.23035362,  52.36219799,  52.56662213,\n",
       "        52.61910594,  52.68503154,  53.37818637,  53.53362029,\n",
       "        53.63449607,  53.7022945 ,  53.89031561,  53.91508826,\n",
       "        54.05908689,  54.13044424,  54.32050927,  54.38382403,\n",
       "        54.45761848,  54.70932925,  55.13737195,  55.32714106,\n",
       "        55.32738587,  55.4046129 ,  55.48091489,  55.71811815,\n",
       "        55.73557567,  56.17675781,  56.23011864,  56.23438957,\n",
       "        56.39373149,  56.46844062,  56.68424061,  56.71885078,\n",
       "        56.76939862,  56.85711107,  57.09591385,  57.27989373,\n",
       "        57.54473701,  57.54806408,  57.60311378,  58.1048201 ,\n",
       "        58.5844735 ,  58.59465742,  58.63051001,  58.68339834,\n",
       "        58.76965288,  58.88290082,  58.88310368,  59.00882361,\n",
       "        59.13181633,  59.55764636,  59.5615487 ,  59.56245699,\n",
       "        59.76473892,  59.89914994,  59.97246934,  60.00002634,\n",
       "        60.00251496,  60.04891532,  60.0538308 ,  60.70866035,\n",
       "        61.01798462,  61.27952006,  61.28835732,  61.4912322 ,\n",
       "        61.49982539,  61.71355161,  61.99408214,  62.05059128,\n",
       "        62.21529578,  62.45628413,  62.62835918,  62.62966872,\n",
       "        62.95091525,  62.97323426,  63.09783316,  63.22481452,\n",
       "        63.2553603 ,  63.83864226,  64.24295783,  64.4913042 ,\n",
       "        64.56366574,  64.64871863,  64.93122961,  65.07262421,\n",
       "        66.06088384,  66.4498022 ,  66.70382315,  66.82586607,\n",
       "        67.17567807,  67.53448011,  67.66670155,  68.18348016,\n",
       "        68.18890413,  68.35930363,  69.02474507,  69.30361002,\n",
       "        69.30915157,  70.14471669,  70.20751156,  70.40199446,\n",
       "        70.94993971,  71.29477275,  71.32497393,  71.76076574,\n",
       "        71.8714398 ,  71.91812901,  72.52199075,  72.75071848,\n",
       "        73.09924151,  74.46337403,  74.78721525,  74.94436462,\n",
       "        75.42494494,  75.69001486,  77.46066249,  77.82838484,\n",
       "        79.66241192,  82.00159449,  85.08540485,  87.47864337])"
      ]
     },
     "execution_count": 18,
     "metadata": {},
     "output_type": "execute_result"
    }
   ],
   "source": [
    "np.sort(distance)"
   ]
  },
  {
   "cell_type": "code",
   "execution_count": 111,
   "metadata": {
    "collapsed": false
   },
   "outputs": [],
   "source": []
  },
  {
   "cell_type": "code",
   "execution_count": 122,
   "metadata": {
    "collapsed": false
   },
   "outputs": [],
   "source": []
  },
  {
   "cell_type": "code",
   "execution_count": null,
   "metadata": {
    "collapsed": true
   },
   "outputs": [],
   "source": []
  },
  {
   "cell_type": "code",
   "execution_count": 142,
   "metadata": {
    "collapsed": false
   },
   "outputs": [],
   "source": []
  },
  {
   "cell_type": "code",
   "execution_count": null,
   "metadata": {
    "collapsed": true
   },
   "outputs": [],
   "source": []
  },
  {
   "cell_type": "code",
   "execution_count": null,
   "metadata": {
    "collapsed": true
   },
   "outputs": [],
   "source": []
  },
  {
   "cell_type": "code",
   "execution_count": 125,
   "metadata": {
    "collapsed": false
   },
   "outputs": [
    {
     "data": {
      "text/plain": [
       "0.13200000627"
      ]
     },
     "execution_count": 125,
     "metadata": {},
     "output_type": "execute_result"
    }
   ],
   "source": [
    "sdf.Optical_Depth_Land_And_Ocean.iloc[ixcl]"
   ]
  },
  {
   "cell_type": "code",
   "execution_count": null,
   "metadata": {
    "collapsed": true
   },
   "outputs": [],
   "source": []
  },
  {
   "cell_type": "code",
   "execution_count": null,
   "metadata": {
    "collapsed": true
   },
   "outputs": [],
   "source": []
  },
  {
   "cell_type": "code",
   "execution_count": 29,
   "metadata": {
    "collapsed": false
   },
   "outputs": [
    {
     "data": {
      "text/plain": [
       "'99'"
      ]
     },
     "execution_count": 29,
     "metadata": {},
     "output_type": "execute_result"
    }
   ],
   "source": [
    "np.unique(df1.PM25)[-1]"
   ]
  },
  {
   "cell_type": "code",
   "execution_count": 6,
   "metadata": {
    "collapsed": false
   },
   "outputs": [
    {
     "name": "stdout",
     "output_type": "stream",
     "text": [
      "True\n",
      "True\n",
      "True\n",
      "True\n",
      "True\n",
      "True\n",
      "True\n",
      "True\n",
      "True\n",
      "True\n"
     ]
    }
   ],
   "source": [
    "myrange=len(df1)\n",
    "myrange=10\n",
    "for i in range(myrange):\n",
    "    print type(df1.PM25.iloc[i]) is str"
   ]
  },
  {
   "cell_type": "code",
   "execution_count": null,
   "metadata": {
    "collapsed": false
   },
   "outputs": [],
   "source": []
  },
  {
   "cell_type": "code",
   "execution_count": 350,
   "metadata": {
    "collapsed": false
   },
   "outputs": [
    {
     "data": {
      "text/plain": [
       "0    15\n",
       "1    15\n",
       "2    24\n",
       "3    24\n",
       "4    24\n",
       "5    24\n",
       "6    24\n",
       "Name: PM25, dtype: object"
      ]
     },
     "execution_count": 350,
     "metadata": {},
     "output_type": "execute_result"
    }
   ],
   "source": [
    "pm25df.PM25"
   ]
  },
  {
   "cell_type": "code",
   "execution_count": null,
   "metadata": {
    "collapsed": true
   },
   "outputs": [],
   "source": []
  },
  {
   "cell_type": "code",
   "execution_count": null,
   "metadata": {
    "collapsed": true
   },
   "outputs": [],
   "source": []
  },
  {
   "cell_type": "code",
   "execution_count": null,
   "metadata": {
    "collapsed": true
   },
   "outputs": [],
   "source": []
  },
  {
   "cell_type": "code",
   "execution_count": null,
   "metadata": {
    "collapsed": true
   },
   "outputs": [],
   "source": []
  },
  {
   "cell_type": "code",
   "execution_count": null,
   "metadata": {
    "collapsed": true
   },
   "outputs": [],
   "source": []
  },
  {
   "cell_type": "code",
   "execution_count": null,
   "metadata": {
    "collapsed": true
   },
   "outputs": [],
   "source": []
  },
  {
   "cell_type": "code",
   "execution_count": null,
   "metadata": {
    "collapsed": true
   },
   "outputs": [],
   "source": []
  },
  {
   "cell_type": "code",
   "execution_count": null,
   "metadata": {
    "collapsed": true
   },
   "outputs": [],
   "source": []
  },
  {
   "cell_type": "code",
   "execution_count": null,
   "metadata": {
    "collapsed": true
   },
   "outputs": [],
   "source": []
  },
  {
   "cell_type": "code",
   "execution_count": null,
   "metadata": {
    "collapsed": true
   },
   "outputs": [],
   "source": []
  },
  {
   "cell_type": "code",
   "execution_count": null,
   "metadata": {
    "collapsed": true
   },
   "outputs": [],
   "source": []
  }
 ],
 "metadata": {
  "kernelspec": {
   "display_name": "Python 2",
   "language": "python",
   "name": "python2"
  },
  "language_info": {
   "codemirror_mode": {
    "name": "ipython",
    "version": 2
   },
   "file_extension": ".py",
   "mimetype": "text/x-python",
   "name": "python",
   "nbconvert_exporter": "python",
   "pygments_lexer": "ipython2",
   "version": "2.7.6"
  }
 },
 "nbformat": 4,
 "nbformat_minor": 0
}
